{
 "cells": [
  {
   "cell_type": "code",
   "execution_count": 1,
   "metadata": {},
   "outputs": [],
   "source": [
    "from selenium import webdriver\n",
    "from bs4 import BeautifulSoup as soup"
   ]
  },
  {
   "cell_type": "code",
   "execution_count": 2,
   "metadata": {},
   "outputs": [],
   "source": [
    "webs = [\"https://sipp.pn-bandaaceh.go.id/list_perkara/search\", \"https://sipp.pn-medankota.go.id/list_perkara/search\", \"http://pn-padang.go.id:8060/\", \"https://sipp.pn-pekanbaru.go.id/\", \"http://sipp.pn-jambi.go.id/\", \"https://sipp.pn-bengkulu.go.id/\", \"https://sipp.pn-tanjungpinangkota.go.id/\", \"https://sipp.ptun-bandarlampung.go.id/\", \"http://www.sipp.pn-serang.go.id/\", \"http://sipp.pn-jakartapusat.go.id/\", \"http://sipp.pn-bandung.go.id/\", \"https://sipp.pn-yogyakota.go.id/\", \"https://sipp.pn-semarangkota.go.id/\", \"http://sipp.pn-surabayakota.go.id/\", \"http://sipp.pn-pontianak.go.id/\", \"http://sipp.pn-samarinda.go.id/\", \"http://sipp.pn-banjarmasin.go.id/\", \"https://sipp.pn-palangkaraya.go.id/\", \"https://sipp.pn-tanjungselor.go.id/\", \"https://sipp.pn-denpasar.go.id/\", \"https://sipp.pn-kupang.go.id/\", \"http://sipp.pn-mataram.go.id/\", \"https://sipp.pn-gorontalo.go.id/\", \"http://sipp.pn-mamuju.go.id/\", \"https://sipp.pn-palu.go.id/\", \"https://sipp.ptun-manado.go.id/\", \"http://sipp.pn-kendari.go.id/\", \"http://sipp.pn-makassar.go.id/\", \"https://sipp.pn-ternate.go.id/\", \"https://sipp.pn-ambon.go.id/\", \"http://sipp.pn-manokwari.go.id/\", \"http://sipp.pn-jayapura.go.id/\"]"
   ]
  },
  {
   "cell_type": "code",
   "execution_count": 3,
   "metadata": {},
   "outputs": [
    {
     "name": "stderr",
     "output_type": "stream",
     "text": [
      "C:\\Users\\LENOVO\\AppData\\Local\\Temp\\ipykernel_33036\\3143404298.py:9: DeprecationWarning: executable_path has been deprecated, please pass in a Service object\n",
      "  driver = webdriver.Chrome(DRIVER_PATH, chrome_options=options)\n",
      "C:\\Users\\LENOVO\\AppData\\Local\\Temp\\ipykernel_33036\\3143404298.py:9: DeprecationWarning: use options instead of chrome_options\n",
      "  driver = webdriver.Chrome(DRIVER_PATH, chrome_options=options)\n",
      "C:\\Users\\LENOVO\\AppData\\Local\\Temp\\ipykernel_33036\\3143404298.py:11: DeprecationWarning: find_element_by_* commands are deprecated. Please use find_element() instead\n",
      "  searchBox = driver.find_element_by_id('search-box')\n"
     ]
    },
    {
     "name": "stdout",
     "output_type": "stream",
     "text": [
      "https://sipp.pn-bandaaceh.go.id/list_perkara/search done\n",
      "https://sipp.pn-medankota.go.id/list_perkara/search done\n",
      "http://pn-padang.go.id:8060/ done\n",
      "https://sipp.pn-pekanbaru.go.id/ done\n",
      "list index out of range\n",
      "list index out of range\n",
      "list index out of range\n",
      "list index out of range\n",
      "list index out of range\n",
      "http://sipp.pn-jakartapusat.go.id/ done\n",
      "http://sipp.pn-bandung.go.id/ done\n",
      "list index out of range\n",
      "https://sipp.pn-semarangkota.go.id/ done\n",
      "http://sipp.pn-surabayakota.go.id/ done\n",
      "list index out of range\n",
      "http://sipp.pn-samarinda.go.id/ done\n",
      "list index out of range\n",
      "list index out of range\n",
      "Message: no such element: Unable to locate element: {\"method\":\"css selector\",\"selector\":\"[id=\"search-box\"]\"}\n",
      "  (Session info: headless chrome=102.0.5005.115)\n",
      "Stacktrace:\n",
      "Backtrace:\n",
      "\tOrdinal0 [0x003F2733+2434867]\n",
      "\tOrdinal0 [0x003807A1+1968033]\n",
      "\tOrdinal0 [0x0026C678+837240]\n",
      "\tOrdinal0 [0x002994E0+1021152]\n",
      "\tOrdinal0 [0x0029977B+1021819]\n",
      "\tOrdinal0 [0x002C6592+1205650]\n",
      "\tOrdinal0 [0x002B4484+1131652]\n",
      "\tOrdinal0 [0x002C4892+1198226]\n",
      "\tOrdinal0 [0x002B4256+1131094]\n",
      "\tOrdinal0 [0x0028E840+976960]\n",
      "\tOrdinal0 [0x0028F736+980790]\n",
      "\tGetHandleVerifier [0x00663C72+2515426]\n",
      "\tGetHandleVerifier [0x0065702F+2463135]\n",
      "\tGetHandleVerifier [0x0049522A+620442]\n",
      "\tGetHandleVerifier [0x00494016+615814]\n",
      "\tOrdinal0 [0x0038707B+1994875]\n",
      "\tOrdinal0 [0x0038B938+2013496]\n",
      "\tOrdinal0 [0x0038BA25+2013733]\n",
      "\tOrdinal0 [0x00394DE1+2051553]\n",
      "\tBaseThreadInitThunk [0x764E7BA9+25]\n",
      "\tRtlInitializeExceptionChain [0x7724B7DB+107]\n",
      "\tRtlClearBits [0x7724B75F+191]\n",
      "\n",
      "list index out of range\n",
      "https://sipp.pn-kupang.go.id/ done\n",
      "list index out of range\n",
      "https://sipp.pn-gorontalo.go.id/ done\n",
      "list index out of range\n",
      "https://sipp.pn-palu.go.id/ done\n",
      "list index out of range\n",
      "list index out of range\n",
      "http://sipp.pn-makassar.go.id/ done\n",
      "https://sipp.pn-ternate.go.id/ done\n",
      "https://sipp.pn-ambon.go.id/ done\n",
      "list index out of range\n",
      "http://sipp.pn-jayapura.go.id/ done\n"
     ]
    }
   ],
   "source": [
    "DRIVER_PATH='./chromedriver.exe'\n",
    "data = []\n",
    "options = webdriver.ChromeOptions()\n",
    "options.add_argument('--ignore-certificate-errors')\n",
    "options.add_argument('--incognito')\n",
    "options.add_argument('--headless')\n",
    "for web in webs :\n",
    "    try :\n",
    "        driver = webdriver.Chrome(DRIVER_PATH, chrome_options=options)\n",
    "        driver.get(web)\n",
    "        searchBox = driver.find_element_by_id('search-box')\n",
    "        searchBox.send_keys('telkom')\n",
    "        searchBox.submit()\n",
    "\n",
    "        source = driver.page_source\n",
    "        driver.close()\n",
    "\n",
    "        page = soup(source, 'html.parser')\n",
    "        rows = page.find_all('tr')\n",
    "        rows.pop(0)\n",
    "        rows.pop(len(rows)-1)\n",
    "        for row in rows :\n",
    "            row_data = {}\n",
    "            columns = row.find_all('td')\n",
    "            row_data['nomor-perkara'] = columns[1].text\n",
    "            row_data['tanggal-register'] = columns[2].text\n",
    "            row_data['klasifikasi'] = columns[3].text\n",
    "            row_data['para-pihak'] = columns[4].text\n",
    "            row_data['status-perkara'] = columns[5].text\n",
    "            row_data['lama-proses'] = columns[6].text\n",
    "            row_data['detail'] = columns[7].a.get('href')\n",
    "            data.append(row_data)\n",
    "        print(web, 'done')\n",
    "    except Exception as e :\n",
    "        print(e)\n"
   ]
  },
  {
   "cell_type": "code",
   "execution_count": 4,
   "metadata": {},
   "outputs": [],
   "source": [
    "page = soup(source, 'html.parser')"
   ]
  },
  {
   "cell_type": "code",
   "execution_count": 5,
   "metadata": {},
   "outputs": [],
   "source": [
    "data = []"
   ]
  },
  {
   "cell_type": "code",
   "execution_count": 6,
   "metadata": {},
   "outputs": [],
   "source": [
    "rows = page.find_all('tr')\n",
    "rows.pop(0)\n",
    "rows.pop(len(rows)-1)\n",
    "for row in rows :\n",
    "    row_data = {}\n",
    "    columns = row.find_all('td')\n",
    "    row_data['nomor-perkara'] = columns[1].text\n",
    "    row_data['tanggal-register'] = columns[2].text\n",
    "    row_data['klasifikasi'] = columns[3].text\n",
    "    row_data['para-pihak'] = columns[4].text\n",
    "    row_data['status-perkara'] = columns[5].text\n",
    "    row_data['lama-proses'] = columns[6].text\n",
    "    row_data['detail'] = columns[7].a.get('href')\n",
    "    data.append(row_data)"
   ]
  },
  {
   "cell_type": "code",
   "execution_count": 7,
   "metadata": {},
   "outputs": [
    {
     "data": {
      "text/plain": [
       "2"
      ]
     },
     "execution_count": 7,
     "metadata": {},
     "output_type": "execute_result"
    }
   ],
   "source": [
    "len(data)"
   ]
  },
  {
   "cell_type": "code",
   "execution_count": 8,
   "metadata": {},
   "outputs": [
    {
     "data": {
      "text/plain": [
       "[{'nomor-perkara': '114/Pdt.G/2021/PN Jap',\n",
       "  'tanggal-register': '23 Jun 2021',\n",
       "  'klasifikasi': 'Gugatan Perwakilan Kelompok (Class Action)',\n",
       "  'para-pihak': 'Penggugat:JUHARITergugat:1.General Manager PT Telkom Indonesia, Witel Papua2.Menteri BUMN3.Menteri Kominfo',\n",
       "  'status-perkara': 'Permohonan Banding',\n",
       "  'lama-proses': '92 Hari',\n",
       "  'detail': 'https://sipp.pn-jayapura.go.id/show_detil/N0hEOHFNKzZzMi9XNEhpUllWajV4UkUzdktwbHFGMDlnV1h3QVJ1a1huVXRLZEpPT0N2VHJENWw3QXpsWkROMGd2ZlJqd0hMZHFVSnVSNFRCWVJhZEE9PQ=='},\n",
       " {'nomor-perkara': '1/Pdt.G.S/2021/PN Jap',\n",
       "  'tanggal-register': '26 Feb 2021',\n",
       "  'klasifikasi': 'Perbuatan Melawan Hukum',\n",
       "  'para-pihak': 'Penggugat:FatimahTergugat:1.PT. Bank Rakyat Indonesia (Persero) Tbk, Cq.PT.Bank Rakyat Indonesia (Persero) Tbk Kantor Wilayah Jayapura2.PT. Telekomunikasi Seluler (\"Telkomsel\") Cq.PT. Telekomunikasi Seluler (\"Telkomsel\") Area Jayapura',\n",
       "  'status-perkara': 'Putusan Keberatan',\n",
       "  'lama-proses': '60 Hari',\n",
       "  'detail': 'https://sipp.pn-jayapura.go.id/show_detil/ZldtMVdnNXprNTRJT2hqK2JHdnFPVXZ0ZlJIcHBJN09SWFNrYmlGMTRsUW5yRnhQTFlOZnhKZXM0YmE1Ukt4VEtKNlppT3BLQUpXY3k4bVFPV0F0WFE9PQ=='}]"
      ]
     },
     "execution_count": 8,
     "metadata": {},
     "output_type": "execute_result"
    }
   ],
   "source": [
    "data"
   ]
  }
 ],
 "metadata": {
  "kernelspec": {
   "display_name": "Python 3.8.10 ('venv': venv)",
   "language": "python",
   "name": "python3"
  },
  "language_info": {
   "codemirror_mode": {
    "name": "ipython",
    "version": 3
   },
   "file_extension": ".py",
   "mimetype": "text/x-python",
   "name": "python",
   "nbconvert_exporter": "python",
   "pygments_lexer": "ipython3",
   "version": "3.8.10"
  },
  "orig_nbformat": 4,
  "vscode": {
   "interpreter": {
    "hash": "0497be5965618887d00e5cd78e2309eacb0660f4abb3b13078b4b75c1fff917a"
   }
  }
 },
 "nbformat": 4,
 "nbformat_minor": 2
}
